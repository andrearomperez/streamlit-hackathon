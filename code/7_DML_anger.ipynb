{
 "cells": [
  {
   "cell_type": "code",
   "execution_count": 1,
   "id": "71953abf-ddff-4255-9cd9-d472d12aa8b1",
   "metadata": {},
   "outputs": [],
   "source": [
    "#!pip install doubleml\n",
    "#!pip install --upgrade scikit-learn"
   ]
  },
  {
   "cell_type": "code",
   "execution_count": 17,
   "id": "763c8399-a82e-4822-9e16-4e0d5ce52447",
   "metadata": {},
   "outputs": [],
   "source": [
    "import pandas as pd\n",
    "import numpy as np\n",
    "import matplotlib.pyplot as plt\n",
    "from sklearn.model_selection import train_test_split\n",
    "from sklearn.model_selection import cross_val_score, cross_val_predict, KFold\n",
    "from sklearn.pipeline import make_pipeline\n",
    "from sklearn.linear_model import LassoCV, RidgeCV, ElasticNetCV, LinearRegression, Ridge, Lasso, LogisticRegressionCV\n",
    "from sklearn.preprocessing import StandardScaler\n",
    "from sklearn.ensemble import GradientBoostingRegressor, GradientBoostingClassifier\n",
    "from sklearn.ensemble import RandomForestRegressor, RandomForestClassifier\n",
    "from sklearn.tree import DecisionTreeRegressor, DecisionTreeClassifier\n",
    "import patsy\n",
    "import warnings\n",
    "from sklearn.base import BaseEstimator, clone\n",
    "import statsmodels.api as sm\n",
    "from IPython.display import Markdown\n",
    "import os\n",
    "import wget\n",
    "import seaborn as sns\n",
    "warnings.simplefilter('ignore')\n",
    "np.random.seed(1234)"
   ]
  },
  {
   "cell_type": "code",
   "execution_count": 3,
   "id": "4339d986-02b4-459e-b56c-93b49adc3df4",
   "metadata": {},
   "outputs": [
    {
     "name": "stdout",
     "output_type": "stream",
     "text": [
      "   AGE   AGEQ  v3  EDUC  ENOCENT  ESOCENT  v7         v8  LWKLYWGE  MARRIED  \\\n",
      "0   40  40.50   1    11        0        0  13   8.955383  5.023558        1   \n",
      "1   41  41.00   1    12        0        0  14   8.993365  5.061540        1   \n",
      "2   41  41.50   1    12        0        0  14   9.310141  5.378315        1   \n",
      "3   46  46.25   1    12        0        0  14   9.110465  5.178639        1   \n",
      "4   46  46.00   1    16        0        0  18  10.310601  6.378776        1   \n",
      "5   47  47.00   1    12        0        0  14   8.929236  4.997411        0   \n",
      "6   48  48.75   1    14        0        0  16   9.205277  5.273452        1   \n",
      "7   41  41.75   2     9        0        0  12   8.993365  5.061540        1   \n",
      "8   47  47.50   1    12        0        0  14  10.758956  6.827130        1   \n",
      "9   44  44.75   2    17        0        0  20   9.767066  5.835241        1   \n",
      "\n",
      "   ...  RACE  SMSA  SOATL   v22  v23  WNOCENT  WSOCENT  v26   YOB  seg_mitad  \n",
      "0  ...     0     1      1  10.0    5        0        0    0  1929          1  \n",
      "1  ...     0     0      1  10.0    5        0        0    0  1929          0  \n",
      "2  ...     0     0      1  10.0    5        0        0    0  1928          1  \n",
      "3  ...     0     0      1  10.0    5        0        0    0  1923          1  \n",
      "4  ...     0     0      1  10.0    5        0        0    1  1924          0  \n",
      "5  ...     0     1      1  10.0    5        0        0    1  1923          0  \n",
      "6  ...     0     1      1  10.0    5        0        0    1  1921          0  \n",
      "7  ...     0     0      1  10.0    5        0        0    0  1928          0  \n",
      "8  ...     0     0      1  10.0    5        0        0    1  1922          1  \n",
      "9  ...     0     0      1  10.0    5        0        0    1  1925          0  \n",
      "\n",
      "[10 rows x 28 columns]\n"
     ]
    },
    {
     "data": {
      "text/plain": [
       "Index(['AGE', 'AGEQ', 'v3', 'EDUC', 'ENOCENT', 'ESOCENT', 'v7', 'v8',\n",
       "       'LWKLYWGE', 'MARRIED', 'MIDATL', 'MT', 'NEWENG', 'v14', 'v15', 'CENSUS',\n",
       "       'v17', 'QOB', 'RACE', 'SMSA', 'SOATL', 'v22', 'v23', 'WNOCENT',\n",
       "       'WSOCENT', 'v26', 'YOB', 'seg_mitad'],\n",
       "      dtype='object')"
      ]
     },
     "execution_count": 3,
     "metadata": {},
     "output_type": "execute_result"
    }
   ],
   "source": [
    "\n",
    "file_path = '/Users/frank/Downloads/NEW7080.dta'\n",
    "\n",
    "data = pd.read_stata(file_path)\n",
    "\n",
    "rename_dict = {\n",
    "    \"v1\": \"AGE\",\n",
    "    \"v2\": \"AGEQ\",\n",
    "    \"v4\": \"EDUC\",\n",
    "    \"v5\": \"ENOCENT\",\n",
    "    \"v6\": \"ESOCENT\",\n",
    "    \"v9\": \"LWKLYWGE\",\n",
    "    \"v10\": \"MARRIED\",\n",
    "    \"v11\": \"MIDATL\",\n",
    "    \"v12\": \"MT\",\n",
    "    \"v13\": \"NEWENG\",\n",
    "    \"v16\": \"CENSUS\",\n",
    "    \"v18\": \"QOB\",\n",
    "    \"v19\": \"RACE\",\n",
    "    \"v20\": \"SMSA\",\n",
    "    \"v21\": \"SOATL\",\n",
    "    \"v24\": \"WNOCENT\",\n",
    "    \"v25\": \"WSOCENT\",\n",
    "    \"v27\": \"YOB\"\n",
    "}\n",
    "\n",
    "data.rename(columns=rename_dict, inplace=True)\n",
    "\n",
    "data['seg_mitad'] = data['QOB'].apply(lambda x: 1 if x in [3, 4] else 0)\n",
    "\n",
    "print(data.head(10))\n",
    "\n",
    "data.columns"
   ]
  },
  {
   "cell_type": "code",
   "execution_count": 4,
   "id": "77fd35a5-b9dc-4f03-a65a-f93ec9133524",
   "metadata": {},
   "outputs": [
    {
     "data": {
      "text/plain": [
       "Index(['AGE', 'EDUC', 'ENOCENT', 'ESOCENT', 'MARRIED', 'MIDATL', 'MT',\n",
       "       'NEWENG', 'CENSUS', 'QOB', 'RACE', 'SMSA', 'SOATL', 'v23', 'WNOCENT',\n",
       "       'WSOCENT', 'YOB', 'seg_mitad'],\n",
       "      dtype='object')"
      ]
     },
     "execution_count": 4,
     "metadata": {},
     "output_type": "execute_result"
    }
   ],
   "source": [
    "y = data['LWKLYWGE'].values\n",
    "D = data['seg_mitad'].values\n",
    "X = data.drop(['v3', 'v7', 'v8', 'v14', 'v15', 'v17', 'v22',\n",
    "               'v22', 'v26','AGEQ','LWKLYWGE','v23'], axis=1)\n",
    "X.columns"
   ]
  },
  {
   "cell_type": "code",
   "execution_count": 5,
   "id": "4e5fcc02-c954-4795-878e-bdbfa28e3f6c",
   "metadata": {},
   "outputs": [],
   "source": [
    "from sklearn.base import TransformerMixin, BaseEstimator\n",
    "from formulaic import Formula\n",
    "\n",
    "class FormulaTransformer(TransformerMixin, BaseEstimator):\n",
    "\n",
    "    def __init__(self, formula, array=False):\n",
    "        self.formula = formula\n",
    "        self.array = array\n",
    "\n",
    "    def fit(self, X, y=None):\n",
    "        return self\n",
    "\n",
    "    def transform(self, X, y=None):\n",
    "        df = Formula(self.formula).get_model_matrix(X)\n",
    "        if self.array:\n",
    "            return df.values\n",
    "        return df"
   ]
  },
  {
   "cell_type": "code",
   "execution_count": 14,
   "id": "3a38bf44-9e18-42c0-9103-d477a30ce319",
   "metadata": {},
   "outputs": [],
   "source": [
    "\n",
    "transformer = FormulaTransformer(\"0 + poly(AGE, degree=6, raw=True) + poly(EDUC, degree=8, raw=True) \"\n",
    "                                 \"+ MARRIED + RACE\")\n",
    "\n",
    "transformer = FormulaTransformer(\"0 + poly(AGE, degree=6, raw=True) + poly(EDUC, degree=8, raw=True) \"\n",
    "                                 \"+ MARRIED + RACE\", array=True)\n",
    "                                 "
   ]
  },
  {
   "cell_type": "code",
   "execution_count": 15,
   "id": "f942254e-a32a-471d-be9d-0a38fc11490d",
   "metadata": {},
   "outputs": [
    {
     "data": {
      "text/plain": [
       "'\\ntransformer = FormulaTransformer(\"0 + poly(AGE, degree=5, raw=True) \"\\n                                 \"+ MARRIED + RACE\")\\n\\ntransformer = FormulaTransformer(\"0 + poly(AGE, degree=5, raw=True) \"\\n                                 \"+ MARRIED + RACE\", array=True)\\n                                 '"
      ]
     },
     "execution_count": 15,
     "metadata": {},
     "output_type": "execute_result"
    }
   ],
   "source": [
    "'''\n",
    "transformer = FormulaTransformer(\"0 + poly(AGE, degree=5, raw=True) \"\n",
    "                                 \"+ MARRIED + RACE\")\n",
    "\n",
    "transformer = FormulaTransformer(\"0 + poly(AGE, degree=5, raw=True) \"\n",
    "                                 \"+ MARRIED + RACE\", array=True)\n",
    "                                 '''"
   ]
  },
  {
   "cell_type": "code",
   "execution_count": 18,
   "id": "36d5f45c-3d3b-40df-b4ff-1ed5c3f72fd9",
   "metadata": {},
   "outputs": [],
   "source": [
    "W = StandardScaler().fit_transform(transformer.fit_transform(X))\n",
    "\n",
    "from econml.iv.dml import OrthoIV\n",
    "cv = KFold(n_splits=5, shuffle=True, random_state=123)\n",
    "plriv = OrthoIV(model_y_xw=LassoCV(cv=cv),\n",
    "                model_t_xw=LogisticRegressionCV(cv=cv),\n",
    "                model_z_xw=LogisticRegressionCV(cv=cv),\n",
    "                cv=3, discrete_treatment=True, discrete_instrument=True, random_state=123)"
   ]
  },
  {
   "cell_type": "code",
   "execution_count": 19,
   "id": "7711e34a-b43c-4a5d-9765-51d5e805ea76",
   "metadata": {
    "scrolled": true
   },
   "outputs": [
    {
     "name": "stdout",
     "output_type": "stream",
     "text": [
      "================== DoubleMLData Object ==================\n",
      "\n",
      "------------------ Data summary      ------------------\n",
      "Outcome variable: y\n",
      "Treatment variable(s): ['d']\n",
      "Covariates: ['X1', 'X2', 'X3', 'X4', 'X5', 'X6', 'X7', 'X8', 'X9', 'X10', 'X11', 'X12', 'X13', 'X14', 'X15', 'X16']\n",
      "Instrument variable(s): None\n",
      "No. Observations: 1063634\n",
      "\n",
      "------------------ DataFrame info    ------------------\n",
      "<class 'pandas.core.frame.DataFrame'>\n",
      "RangeIndex: 1063634 entries, 0 to 1063633\n",
      "Columns: 18 entries, X1 to d\n",
      "dtypes: float64(18)\n",
      "memory usage: 146.1 MB\n",
      "\n"
     ]
    }
   ],
   "source": [
    "from doubleml import DoubleMLData\n",
    "dml_data = DoubleMLData.from_arrays(W, y, D)\n",
    "print(dml_data)"
   ]
  },
  {
   "cell_type": "code",
   "execution_count": 20,
   "id": "5c6dec6b-c08b-4cf2-9b84-3f8728acee2f",
   "metadata": {},
   "outputs": [
    {
     "name": "stdout",
     "output_type": "stream",
     "text": [
      "================== DoubleMLPLR Object ==================\n",
      "\n",
      "------------------ Data summary      ------------------\n",
      "Outcome variable: y\n",
      "Treatment variable(s): ['d']\n",
      "Covariates: ['X1', 'X2', 'X3', 'X4', 'X5', 'X6', 'X7', 'X8', 'X9', 'X10', 'X11', 'X12', 'X13', 'X14', 'X15', 'X16']\n",
      "Instrument variable(s): None\n",
      "No. Observations: 1063634\n",
      "\n",
      "------------------ Score & algorithm ------------------\n",
      "Score function: partialling out\n",
      "\n",
      "------------------ Machine learner   ------------------\n",
      "Learner ml_l: LassoCV(cv=KFold(n_splits=5, random_state=123, shuffle=True))\n",
      "Learner ml_m: RegWrapper(clf=LogisticRegressionCV(cv=KFold(n_splits=5, random_state=123, shuffle=True)))\n",
      "Out-of-sample Performance:\n",
      "Learner ml_l RMSE: [[0.65691867]]\n",
      "Learner ml_m RMSE: [[0.49855448]]\n",
      "\n",
      "------------------ Resampling        ------------------\n",
      "No. folds: 3\n",
      "No. repeated sample splits: 1\n",
      "\n",
      "------------------ Fit summary       ------------------\n",
      "       coef   std err         t     P>|t|     2.5 %    97.5 %\n",
      "d -0.003162  0.001277 -2.475226  0.013315 -0.005666 -0.000658\n"
     ]
    }
   ],
   "source": [
    "import doubleml as dml\n",
    "\n",
    "class RegWrapper(BaseEstimator):\n",
    "\n",
    "    def __init__(self, clf):\n",
    "        self.clf = clf\n",
    "\n",
    "    def fit(self, X, y):\n",
    "        self.clf_ = clone(self.clf).fit(X, y)\n",
    "        return self\n",
    "\n",
    "    def predict(self, X):\n",
    "        return self.clf_.predict_proba(X)[:, 1]\n",
    "\n",
    "dml_plr_obj = dml.DoubleMLPLR(dml_data,\n",
    "                               LassoCV(cv=cv),\n",
    "                               RegWrapper(LogisticRegressionCV(cv=cv)),\n",
    "                               RegWrapper(LogisticRegressionCV(cv=cv)),\n",
    "                               n_folds=3)\n",
    "print(dml_plr_obj.fit())"
   ]
  },
  {
   "cell_type": "code",
   "execution_count": null,
   "id": "19fd96c5-d0dc-4e3a-9de5-a6dd22e20cf2",
   "metadata": {},
   "outputs": [],
   "source": []
  },
  {
   "cell_type": "code",
   "execution_count": null,
   "id": "06e2b14d-1f0f-41f9-a7d3-d1a49b928b02",
   "metadata": {},
   "outputs": [],
   "source": []
  }
 ],
 "metadata": {
  "kernelspec": {
   "display_name": "Python 3 (ipykernel)",
   "language": "python",
   "name": "python3"
  },
  "language_info": {
   "codemirror_mode": {
    "name": "ipython",
    "version": 3
   },
   "file_extension": ".py",
   "mimetype": "text/x-python",
   "name": "python",
   "nbconvert_exporter": "python",
   "pygments_lexer": "ipython3",
   "version": "3.11.0"
  }
 },
 "nbformat": 4,
 "nbformat_minor": 5
}
