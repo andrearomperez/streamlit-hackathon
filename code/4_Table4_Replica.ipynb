{
 "cells": [
  {
   "cell_type": "code",
   "execution_count": 16,
   "id": "2acc8bf0-6d99-4618-9aec-d1f74dbf9375",
   "metadata": {},
   "outputs": [],
   "source": [
    "import pandas as pd\n",
    "import numpy as np\n",
    "import statsmodels.api as sm\n",
    "from statsmodels.iolib.summary2 import summary_col\n",
    "from linearmodels.iv import IV2SLS"
   ]
  },
  {
   "cell_type": "code",
   "execution_count": 17,
   "id": "f0ae053f-addc-4c22-93c2-496c3c814994",
   "metadata": {},
   "outputs": [],
   "source": [
    "file_path = r\"C:\\Users\\jeffr\\Downloads\\NEW7080.dta\"\n",
    "df = pd.read_stata(file_path)"
   ]
  },
  {
   "cell_type": "code",
   "execution_count": 18,
   "id": "e05fd173-3b51-49e0-b0a9-8161b27baa2a",
   "metadata": {},
   "outputs": [],
   "source": [
    "rename_dict = {\n",
    "    'v1': 'AGE', 'v2': 'AGEQ', 'v4': 'EDUC', 'v5': 'ENOCENT', 'v6': 'ESOCENT',\n",
    "    'v9': 'LWKLYWGE', 'v10': 'MARRIED', 'v11': 'MIDATL', 'v12': 'MT',\n",
    "    'v13': 'NEWENG', 'v16': 'CENSUS', 'v18': 'QOB', 'v19': 'RACE',\n",
    "    'v20': 'SMSA', 'v21': 'SOATL', 'v24': 'WNOCENT', 'v25': 'WSOCENT', 'v27': 'YOB'\n",
    "}\n",
    "df.rename(columns=rename_dict, inplace=True)"
   ]
  },
  {
   "cell_type": "code",
   "execution_count": 19,
   "id": "a379019b-9fd2-45ea-93cb-04176abd1c74",
   "metadata": {},
   "outputs": [],
   "source": [
    "df.loc[df['YOB'] >= 1900, 'YOB'] -= 1900\n",
    "for i in range(10):\n",
    "    df[f'YR{i}'] = ((df['YOB'] == 20+i) | (df['YOB'] == 30+i) | (df['YOB'] == 40+i)).astype(int)"
   ]
  },
  {
   "cell_type": "code",
   "execution_count": 20,
   "id": "8086200e-3b3e-4930-80e4-d2776ca26045",
   "metadata": {},
   "outputs": [],
   "source": [
    "for i in range(1, 5):\n",
    "    df[f'QTR{i}'] = (df['QOB'] == i).astype(int)"
   ]
  },
  {
   "cell_type": "code",
   "execution_count": 21,
   "id": "591b095b-02a3-44c8-85f3-bb004d30da21",
   "metadata": {},
   "outputs": [],
   "source": [
    "for j in range(1, 4):\n",
    "    for i in range(10):\n",
    "        df[f'QTR{j}YR{i}'] = df[f'QTR{j}'] * df[f'YR{i}']"
   ]
  },
  {
   "cell_type": "code",
   "execution_count": 22,
   "id": "85bdbf5f",
   "metadata": {},
   "outputs": [],
   "source": [
    "df = df.drop(columns=['QTR3YR7', 'QTR3YR9'])"
   ]
  },
  {
   "cell_type": "code",
   "execution_count": 23,
   "id": "ee47c4d6-a476-4c56-a476-96c24bf2e6d5",
   "metadata": {},
   "outputs": [],
   "source": [
    "df['COHORT'] = 2029\n",
    "df.loc[(df['YOB'] <= 39) & (df['YOB'] >= 30), 'COHORT'] = 3039\n",
    "df.loc[(df['YOB'] <= 49) & (df['YOB'] >= 40), 'COHORT'] = 4049\n",
    "df.loc[df['CENSUS'] == 80, 'AGEQ'] -= 1900\n",
    "df['AGEQSQ'] = df['AGEQ'] ** 2"
   ]
  },
  {
   "cell_type": "code",
   "execution_count": 24,
   "id": "760a1f14-2073-4f6e-ba04-7cb2b367361d",
   "metadata": {},
   "outputs": [],
   "source": [
    "df = df[df['COHORT'] < 2030]"
   ]
  },
  {
   "cell_type": "code",
   "execution_count": 25,
   "id": "8ef890d8-cd4a-4532-be04-c51f1a489166",
   "metadata": {},
   "outputs": [],
   "source": [
    "# Regressions\n",
    "models = {}"
   ]
  },
  {
   "cell_type": "code",
   "execution_count": 26,
   "id": "d37ef922-2680-4067-9b93-616946163c8f",
   "metadata": {},
   "outputs": [],
   "source": [
    "# Model 1\n",
    "X = sm.add_constant(df[['EDUC'] + [f'YR{i}' for i in range(9)]])\n",
    "y = df['LWKLYWGE']\n",
    "models['model1'] = sm.OLS(y, X).fit()"
   ]
  },
  {
   "cell_type": "code",
   "execution_count": 39,
   "id": "4ea951af-5b0c-405b-9b0c-70843a72610a",
   "metadata": {},
   "outputs": [
    {
     "data": {
      "text/html": [
       "<table class=\"simpletable\">\n",
       "<caption>IV-2SLS Estimation Summary</caption>\n",
       "<tr>\n",
       "  <th>Dep. Variable:</th>        <td>LWKLYWGE</td>     <th>  R-squared:         </th>  <td>0.8857</td>  \n",
       "</tr>\n",
       "<tr>\n",
       "  <th>Estimator:</th>             <td>IV-2SLS</td>     <th>  Adj. R-squared:    </th>  <td>0.8857</td>  \n",
       "</tr>\n",
       "<tr>\n",
       "  <th>No. Observations:</th>      <td>247199</td>      <th>  F-statistic:       </th> <td>1.387e+07</td>\n",
       "</tr>\n",
       "<tr>\n",
       "  <th>Date:</th>             <td>Sat, Jul 06 2024</td> <th>  P-value (F-stat)   </th>  <td>0.0000</td>  \n",
       "</tr>\n",
       "<tr>\n",
       "  <th>Time:</th>                 <td>19:27:40</td>     <th>  Distribution:      </th>  <td>chi2(9)</td> \n",
       "</tr>\n",
       "<tr>\n",
       "  <th>Cov. Estimator:</th>        <td>robust</td>      <th>                     </th>     <td></td>     \n",
       "</tr>\n",
       "<tr>\n",
       "  <th></th>                          <td></td>         <th>                     </th>     <td></td>     \n",
       "</tr>\n",
       "</table>\n",
       "<table class=\"simpletable\">\n",
       "<caption>Parameter Estimates</caption>\n",
       "<tr>\n",
       "   <td></td>   <th>Parameter</th> <th>Std. Err.</th> <th>T-stat</th> <th>P-value</th> <th>Lower CI</th> <th>Upper CI</th>\n",
       "</tr>\n",
       "<tr>\n",
       "  <th>YR0</th>  <td>5.1323</td>    <td>0.0043</td>   <td>1191.4</td> <td>0.0000</td>   <td>5.1238</td>   <td>5.1407</td> \n",
       "</tr>\n",
       "<tr>\n",
       "  <th>YR1</th>  <td>5.1498</td>    <td>0.0041</td>   <td>1253.1</td> <td>0.0000</td>   <td>5.1417</td>   <td>5.1578</td> \n",
       "</tr>\n",
       "<tr>\n",
       "  <th>YR2</th>  <td>5.1439</td>    <td>0.0043</td>   <td>1204.5</td> <td>0.0000</td>   <td>5.1355</td>   <td>5.1522</td> \n",
       "</tr>\n",
       "<tr>\n",
       "  <th>YR3</th>  <td>5.1540</td>    <td>0.0042</td>   <td>1213.9</td> <td>0.0000</td>   <td>5.1457</td>   <td>5.1624</td> \n",
       "</tr>\n",
       "<tr>\n",
       "  <th>YR4</th>  <td>5.1598</td>    <td>0.0041</td>   <td>1247.4</td> <td>0.0000</td>   <td>5.1517</td>   <td>5.1679</td> \n",
       "</tr>\n",
       "<tr>\n",
       "  <th>YR5</th>  <td>5.1629</td>    <td>0.0041</td>   <td>1253.4</td> <td>0.0000</td>   <td>5.1549</td>   <td>5.1710</td> \n",
       "</tr>\n",
       "<tr>\n",
       "  <th>YR6</th>  <td>5.1682</td>    <td>0.0041</td>   <td>1267.1</td> <td>0.0000</td>   <td>5.1602</td>   <td>5.1762</td> \n",
       "</tr>\n",
       "<tr>\n",
       "  <th>YR7</th>  <td>5.1626</td>    <td>0.0041</td>   <td>1259.9</td> <td>0.0000</td>   <td>5.1546</td>   <td>5.1706</td> \n",
       "</tr>\n",
       "<tr>\n",
       "  <th>YR8</th>  <td>5.1663</td>    <td>0.0040</td>   <td>1278.6</td> <td>0.0000</td>   <td>5.1584</td>   <td>5.1742</td> \n",
       "</tr>\n",
       "</table><br/><br/>Endogenous: <br/>Instruments: QTR1YR0, QTR1YR1, QTR1YR2, QTR1YR3, QTR1YR4, QTR1YR5, QTR1YR6, QTR1YR7, QTR1YR8, QTR1YR9, QTR2YR0, QTR2YR1, QTR2YR2, QTR2YR3, QTR2YR4, QTR2YR5, QTR2YR6, QTR2YR7, QTR2YR8, QTR2YR9, QTR3YR0, QTR3YR1, QTR3YR2, QTR3YR3, QTR3YR4, QTR3YR5, QTR3YR6, QTR3YR8<br/>Robust Covariance (Heteroskedastic)<br/>Debiased: False<br/>id: 0x1df820c9150"
      ],
      "text/plain": [
       "                          IV-2SLS Estimation Summary                          \n",
       "==============================================================================\n",
       "Dep. Variable:               LWKLYWGE   R-squared:                      0.8857\n",
       "Estimator:                    IV-2SLS   Adj. R-squared:                 0.8857\n",
       "No. Observations:              247199   F-statistic:                 1.387e+07\n",
       "Date:                Sat, Jul 06 2024   P-value (F-stat)                0.0000\n",
       "Time:                        19:27:40   Distribution:                  chi2(9)\n",
       "Cov. Estimator:                robust                                         \n",
       "                                                                              \n",
       "                             Parameter Estimates                              \n",
       "==============================================================================\n",
       "            Parameter  Std. Err.     T-stat    P-value    Lower CI    Upper CI\n",
       "------------------------------------------------------------------------------\n",
       "YR0            5.1323     0.0043     1191.4     0.0000      5.1238      5.1407\n",
       "YR1            5.1498     0.0041     1253.1     0.0000      5.1417      5.1578\n",
       "YR2            5.1439     0.0043     1204.5     0.0000      5.1355      5.1522\n",
       "YR3            5.1540     0.0042     1213.9     0.0000      5.1457      5.1624\n",
       "YR4            5.1598     0.0041     1247.4     0.0000      5.1517      5.1679\n",
       "YR5            5.1629     0.0041     1253.4     0.0000      5.1549      5.1710\n",
       "YR6            5.1682     0.0041     1267.1     0.0000      5.1602      5.1762\n",
       "YR7            5.1626     0.0041     1259.9     0.0000      5.1546      5.1706\n",
       "YR8            5.1663     0.0040     1278.6     0.0000      5.1584      5.1742\n",
       "==============================================================================\n",
       "\n",
       "Endogenous: \n",
       "Instruments: QTR1YR0, QTR1YR1, QTR1YR2, QTR1YR3, QTR1YR4, QTR1YR5, QTR1YR6, QTR1YR7, QTR1YR8, QTR1YR9, QTR2YR0, QTR2YR1, QTR2YR2, QTR2YR3, QTR2YR4, QTR2YR5, QTR2YR6, QTR2YR7, QTR2YR8, QTR2YR9, QTR3YR0, QTR3YR1, QTR3YR2, QTR3YR3, QTR3YR4, QTR3YR5, QTR3YR6, QTR3YR8\n",
       "Robust Covariance (Heteroskedastic)\n",
       "Debiased: False\n",
       "IVResults, id: 0x1df820c9150"
      ]
     },
     "execution_count": 39,
     "metadata": {},
     "output_type": "execute_result"
    }
   ],
   "source": [
    "# Define variables for IV regression\n",
    "y = df['LWKLYWGE']\n",
    "X = df[['YR0', 'YR1', 'YR2', 'YR3', 'YR4', 'YR5', 'YR6', 'YR7', 'YR8']]\n",
    "Z = df[['QTR1YR0', 'QTR1YR1', 'QTR1YR2', 'QTR1YR3', 'QTR1YR4', 'QTR1YR5', 'QTR1YR6', 'QTR1YR7', 'QTR1YR8', 'QTR1YR9',\n",
    "          'QTR2YR0', 'QTR2YR1', 'QTR2YR2', 'QTR2YR3', 'QTR2YR4', 'QTR2YR5', 'QTR2YR6', 'QTR2YR7', 'QTR2YR8', 'QTR2YR9',\n",
    "          'QTR3YR0', 'QTR3YR1', 'QTR3YR2', 'QTR3YR3', 'QTR3YR4', 'QTR3YR5', 'QTR3YR6',  'QTR3YR8']]\n",
    "\n",
    "# Perform IV regression (2SLS)\n",
    "iv_model2 = IV2SLS(y, X, None, Z).fit()\n",
    "iv_model2"
   ]
  },
  {
   "cell_type": "code",
   "execution_count": 40,
   "id": "8c84d55f-d0ae-4a69-8746-9d599cac931a",
   "metadata": {},
   "outputs": [
    {
     "data": {
      "text/plain": [
       "<statsmodels.regression.linear_model.RegressionResultsWrapper at 0x1dfaaad31d0>"
      ]
     },
     "execution_count": 40,
     "metadata": {},
     "output_type": "execute_result"
    }
   ],
   "source": [
    "X3 = df[['EDUC', 'YR0', 'YR1', 'YR2', 'YR3', 'YR4', 'YR5', 'YR6', 'YR7', 'YR8', 'AGEQ', 'AGEQSQ']]\n",
    "X3 = sm.add_constant(X3)\n",
    "model3 = sm.OLS(df['LWKLYWGE'], X3).fit()"
   ]
  },
  {
   "cell_type": "code",
   "execution_count": 30,
   "id": "8630323e-72e3-4f8d-8e96-4ef167bcbe6c",
   "metadata": {},
   "outputs": [
    {
     "name": "stdout",
     "output_type": "stream",
     "text": [
      "                          IV-2SLS Estimation Summary                          \n",
      "==============================================================================\n",
      "Dep. Variable:               LWKLYWGE   R-squared:                      0.1023\n",
      "Estimator:                    IV-2SLS   Adj. R-squared:                 0.1023\n",
      "No. Observations:              247199   F-statistic:                    102.66\n",
      "Date:                Sat, Jul 06 2024   P-value (F-stat)                0.0000\n",
      "Time:                        19:22:50   Distribution:                 chi2(12)\n",
      "Cov. Estimator:                robust                                         \n",
      "                                                                              \n",
      "                             Parameter Estimates                              \n",
      "==============================================================================\n",
      "            Parameter  Std. Err.     T-stat    P-value    Lower CI    Upper CI\n",
      "------------------------------------------------------------------------------\n",
      "const          0.1338     1.6605     0.0806     0.9358     -3.1207      3.3882\n",
      "YR0           -0.1134     0.0714    -1.5880     0.1123     -0.2534      0.0266\n",
      "YR1           -0.1082     0.0654    -1.6541     0.0981     -0.2364      0.0200\n",
      "YR2           -0.1039     0.0561    -1.8520     0.0640     -0.2138      0.0061\n",
      "YR3           -0.0939     0.0499    -1.8825     0.0598     -0.1916      0.0039\n",
      "YR4           -0.0807     0.0428    -1.8840     0.0596     -0.1646      0.0033\n",
      "YR5           -0.0574     0.0339    -1.6922     0.0906     -0.1239      0.0091\n",
      "YR6           -0.0427     0.0272    -1.5674     0.1170     -0.0961      0.0107\n",
      "YR7           -0.0188     0.0175    -1.0735     0.2830     -0.0532      0.0155\n",
      "YR8            0.0004     0.0102     0.0348     0.9722     -0.0196      0.0204\n",
      "AGEQ           0.1409     0.0705     1.9994     0.0456      0.0028      0.2790\n",
      "AGEQSQ        -0.0014     0.0008    -1.7258     0.0844     -0.0029      0.0002\n",
      "EDUC           0.1310     0.0336     3.9044     0.0001      0.0653      0.1968\n",
      "==============================================================================\n",
      "\n",
      "Endogenous: EDUC\n",
      "Instruments: QTR1YR0, QTR1YR1, QTR1YR2, QTR1YR3, QTR1YR4, QTR1YR5, QTR1YR6, QTR1YR7, QTR1YR8, QTR1YR9, QTR2YR0, QTR2YR1, QTR2YR2, QTR2YR3, QTR2YR4, QTR2YR5, QTR2YR6, QTR2YR7, QTR2YR8, QTR2YR9, QTR3YR0, QTR3YR1, QTR3YR2, QTR3YR3, QTR3YR4, QTR3YR5, QTR3YR6, QTR3YR8\n",
      "Robust Covariance (Heteroskedastic)\n",
      "Debiased: False\n"
     ]
    }
   ],
   "source": [
    "y = df['LWKLYWGE']\n",
    "X = sm.add_constant(df[[f'YR{i}' for i in range(9)] + ['AGEQ', 'AGEQSQ']])\n",
    "\n",
    "\n",
    "# Endogenous variable (EDUC)\n",
    "endog = df['EDUC']\n",
    "\n",
    "# Perform IV regression (2SLS)\n",
    "iv_model4 = IV2SLS(y, X, endog, Z).fit()\n",
    "\n",
    "# Print the summary of the IV regression model\n",
    "print(iv_model4.summary)"
   ]
  },
  {
   "cell_type": "code",
   "execution_count": 31,
   "id": "05dd90e7-8a2c-4a53-bd67-d790ed9dfe3c",
   "metadata": {},
   "outputs": [],
   "source": [
    "X5 = df[['EDUC', 'YR0', 'YR1', 'YR2', 'YR3', 'YR4', 'YR5', 'YR6', 'YR7', 'YR8', 'RACE', 'MARRIED', 'SMSA', 'NEWENG', 'MIDATL',\n",
    "          'ENOCENT', 'WNOCENT', 'SOATL', 'ESOCENT', 'WSOCENT', 'MT']]\n",
    "X5 = sm.add_constant(X5)\n",
    "model5 = sm.OLS(df['LWKLYWGE'], X5).fit()"
   ]
  },
  {
   "cell_type": "code",
   "execution_count": 1,
   "id": "e073aec2-5cb4-4689-9c03-43a7aaa506b3",
   "metadata": {},
   "outputs": [
    {
     "ename": "NameError",
     "evalue": "name 'df' is not defined",
     "output_type": "error",
     "traceback": [
      "\u001b[0;31m---------------------------------------------------------------------------\u001b[0m",
      "\u001b[0;31mNameError\u001b[0m                                 Traceback (most recent call last)",
      "Cell \u001b[0;32mIn[1], line 1\u001b[0m\n\u001b[0;32m----> 1\u001b[0m X_iv6 \u001b[38;5;241m=\u001b[39m df[[\u001b[38;5;124mf\u001b[39m\u001b[38;5;124m'\u001b[39m\u001b[38;5;124mYR\u001b[39m\u001b[38;5;132;01m{\u001b[39;00mi\u001b[38;5;132;01m}\u001b[39;00m\u001b[38;5;124m'\u001b[39m \u001b[38;5;28;01mfor\u001b[39;00m i \u001b[38;5;129;01min\u001b[39;00m \u001b[38;5;28mrange\u001b[39m(\u001b[38;5;241m9\u001b[39m)] \u001b[38;5;241m+\u001b[39m [\u001b[38;5;124m'\u001b[39m\u001b[38;5;124mRACE\u001b[39m\u001b[38;5;124m'\u001b[39m, \u001b[38;5;124m'\u001b[39m\u001b[38;5;124mMARRIED\u001b[39m\u001b[38;5;124m'\u001b[39m, \u001b[38;5;124m'\u001b[39m\u001b[38;5;124mSMSA\u001b[39m\u001b[38;5;124m'\u001b[39m, \u001b[38;5;124m'\u001b[39m\u001b[38;5;124mNEWENG\u001b[39m\u001b[38;5;124m'\u001b[39m, \u001b[38;5;124m'\u001b[39m\u001b[38;5;124mMIDATL\u001b[39m\u001b[38;5;124m'\u001b[39m, \u001b[38;5;124m'\u001b[39m\u001b[38;5;124mENOCENT\u001b[39m\u001b[38;5;124m'\u001b[39m, \u001b[38;5;124m'\u001b[39m\u001b[38;5;124mWNOCENT\u001b[39m\u001b[38;5;124m'\u001b[39m, \u001b[38;5;124m'\u001b[39m\u001b[38;5;124mSOATL\u001b[39m\u001b[38;5;124m'\u001b[39m, \u001b[38;5;124m'\u001b[39m\u001b[38;5;124mESOCENT\u001b[39m\u001b[38;5;124m'\u001b[39m, \u001b[38;5;124m'\u001b[39m\u001b[38;5;124mWSOCENT\u001b[39m\u001b[38;5;124m'\u001b[39m, \u001b[38;5;124m'\u001b[39m\u001b[38;5;124mMT\u001b[39m\u001b[38;5;124m'\u001b[39m]]\n\u001b[1;32m      2\u001b[0m Z_iv6 \u001b[38;5;241m=\u001b[39m df[[\u001b[38;5;124mf\u001b[39m\u001b[38;5;124m'\u001b[39m\u001b[38;5;124mQTR\u001b[39m\u001b[38;5;132;01m{\u001b[39;00mj\u001b[38;5;132;01m}\u001b[39;00m\u001b[38;5;124mYR\u001b[39m\u001b[38;5;132;01m{\u001b[39;00mi\u001b[38;5;132;01m}\u001b[39;00m\u001b[38;5;124m'\u001b[39m \u001b[38;5;28;01mfor\u001b[39;00m j \u001b[38;5;129;01min\u001b[39;00m \u001b[38;5;28mrange\u001b[39m(\u001b[38;5;241m1\u001b[39m, \u001b[38;5;241m4\u001b[39m) \u001b[38;5;28;01mfor\u001b[39;00m i \u001b[38;5;129;01min\u001b[39;00m \u001b[38;5;28mrange\u001b[39m(\u001b[38;5;241m10\u001b[39m)] \u001b[38;5;241m+\u001b[39m [\u001b[38;5;124mf\u001b[39m\u001b[38;5;124m'\u001b[39m\u001b[38;5;124mYR\u001b[39m\u001b[38;5;132;01m{\u001b[39;00mi\u001b[38;5;132;01m}\u001b[39;00m\u001b[38;5;124m'\u001b[39m \u001b[38;5;28;01mfor\u001b[39;00m i \u001b[38;5;129;01min\u001b[39;00m \u001b[38;5;28mrange\u001b[39m(\u001b[38;5;241m9\u001b[39m)]]\n\u001b[1;32m      3\u001b[0m Z_iv6 \u001b[38;5;241m=\u001b[39m sm\u001b[38;5;241m.\u001b[39madd_constant(Z_iv6)\n",
      "\u001b[0;31mNameError\u001b[0m: name 'df' is not defined"
     ]
    }
   ],
   "source": [
    "X_iv6 = df[[f'YR{i}' for i in range(9)] + ['RACE', 'MARRIED', 'SMSA', 'NEWENG', 'MIDATL', 'ENOCENT', 'WNOCENT', 'SOATL', 'ESOCENT', 'WSOCENT', 'MT']]\n",
    "Z_iv6 = df[[f'QTR{j}YR{i}' for j in range(1, 4) for i in range(10)] + [f'YR{i}' for i in range(9)]]\n",
    "Z_iv6 = sm.add_constant(Z_iv6)\n",
    "models['model6'] = IV2SLS(y, X_iv6, Z_iv6, df['EDUC']).fit()"
   ]
  },
  {
   "cell_type": "code",
   "execution_count": 35,
   "id": "12c6179b-9661-4b51-9dfc-b27a6336eb26",
   "metadata": {},
   "outputs": [],
   "source": [
    "X7 = df[['EDUC', 'YR0', 'YR1', 'YR2', 'YR3', 'YR4', 'YR5', 'YR6', 'YR7', 'YR8', 'RACE', 'MARRIED', 'SMSA', 'NEWENG', 'MIDATL',\n",
    "           'ENOCENT', 'WNOCENT', 'SOATL', 'ESOCENT', 'WSOCENT', 'MT', 'AGEQ', 'AGEQSQ']]\n",
    "X7 = sm.add_constant(X7)\n",
    "model7 = sm.OLS(df['LWKLYWGE'], X7).fit()"
   ]
  },
  {
   "cell_type": "code",
   "execution_count": 38,
   "id": "9c1042ff-8cdb-4d1a-9d67-f81e6da19a9f",
   "metadata": {},
   "outputs": [
    {
     "data": {
      "text/html": [
       "<table class=\"simpletable\">\n",
       "<caption>IV-2SLS Estimation Summary</caption>\n",
       "<tr>\n",
       "  <th>Dep. Variable:</th>        <td>LWKLYWGE</td>     <th>  R-squared:         </th>  <td>0.2065</td>  \n",
       "</tr>\n",
       "<tr>\n",
       "  <th>Estimator:</th>             <td>IV-2SLS</td>     <th>  Adj. R-squared:    </th>  <td>0.2064</td>  \n",
       "</tr>\n",
       "<tr>\n",
       "  <th>No. Observations:</th>      <td>247199</td>      <th>  F-statistic:       </th> <td>2.883e+04</td>\n",
       "</tr>\n",
       "<tr>\n",
       "  <th>Date:</th>             <td>Sat, Jul 06 2024</td> <th>  P-value (F-stat)   </th>  <td>0.0000</td>  \n",
       "</tr>\n",
       "<tr>\n",
       "  <th>Time:</th>                 <td>19:26:29</td>     <th>  Distribution:      </th> <td>chi2(23)</td> \n",
       "</tr>\n",
       "<tr>\n",
       "  <th>Cov. Estimator:</th>        <td>robust</td>      <th>                     </th>     <td></td>     \n",
       "</tr>\n",
       "<tr>\n",
       "  <th></th>                          <td></td>         <th>                     </th>     <td></td>     \n",
       "</tr>\n",
       "</table>\n",
       "<table class=\"simpletable\">\n",
       "<caption>Parameter Estimates</caption>\n",
       "<tr>\n",
       "     <td></td>     <th>Parameter</th> <th>Std. Err.</th> <th>T-stat</th>  <th>P-value</th> <th>Lower CI</th> <th>Upper CI</th>\n",
       "</tr>\n",
       "<tr>\n",
       "  <th>const</th>    <td>0.9994</td>    <td>1.6002</td>   <td>0.6246</td>  <td>0.5323</td>   <td>-2.1370</td>  <td>4.1359</td> \n",
       "</tr>\n",
       "<tr>\n",
       "  <th>YR0</th>      <td>-0.0680</td>   <td>0.0671</td>   <td>-1.0133</td> <td>0.3109</td>   <td>-0.1994</td>  <td>0.0635</td> \n",
       "</tr>\n",
       "<tr>\n",
       "  <th>YR1</th>      <td>-0.0669</td>   <td>0.0614</td>   <td>-1.0906</td> <td>0.2754</td>   <td>-0.1873</td>  <td>0.0534</td> \n",
       "</tr>\n",
       "<tr>\n",
       "  <th>YR2</th>      <td>-0.0660</td>   <td>0.0531</td>   <td>-1.2412</td> <td>0.2145</td>   <td>-0.1701</td>  <td>0.0382</td> \n",
       "</tr>\n",
       "<tr>\n",
       "  <th>YR3</th>      <td>-0.0601</td>   <td>0.0472</td>   <td>-1.2718</td> <td>0.2035</td>   <td>-0.1526</td>  <td>0.0325</td> \n",
       "</tr>\n",
       "<tr>\n",
       "  <th>YR4</th>      <td>-0.0525</td>   <td>0.0403</td>   <td>-1.3024</td> <td>0.1928</td>   <td>-0.1316</td>  <td>0.0265</td> \n",
       "</tr>\n",
       "<tr>\n",
       "  <th>YR5</th>      <td>-0.0343</td>   <td>0.0323</td>   <td>-1.0605</td> <td>0.2889</td>   <td>-0.0976</td>  <td>0.0291</td> \n",
       "</tr>\n",
       "<tr>\n",
       "  <th>YR6</th>      <td>-0.0248</td>   <td>0.0257</td>   <td>-0.9628</td> <td>0.3357</td>   <td>-0.0752</td>  <td>0.0257</td> \n",
       "</tr>\n",
       "<tr>\n",
       "  <th>YR7</th>      <td>-0.0095</td>   <td>0.0166</td>   <td>-0.5735</td> <td>0.5663</td>   <td>-0.0421</td>  <td>0.0230</td> \n",
       "</tr>\n",
       "<tr>\n",
       "  <th>YR8</th>      <td>0.0024</td>    <td>0.0094</td>   <td>0.2567</td>  <td>0.7974</td>   <td>-0.0161</td>  <td>0.0209</td> \n",
       "</tr>\n",
       "<tr>\n",
       "  <th>RACE</th>     <td>-0.2271</td>   <td>0.0779</td>   <td>-2.9133</td> <td>0.0036</td>   <td>-0.3798</td>  <td>-0.0743</td>\n",
       "</tr>\n",
       "<tr>\n",
       "  <th>MARRIED</th>  <td>0.2804</td>    <td>0.0143</td>   <td>19.549</td>  <td>0.0000</td>   <td>0.2523</td>   <td>0.3085</td> \n",
       "</tr>\n",
       "<tr>\n",
       "  <th>SMSA</th>     <td>-0.1163</td>   <td>0.0199</td>   <td>-5.8433</td> <td>0.0000</td>   <td>-0.1553</td>  <td>-0.0773</td>\n",
       "</tr>\n",
       "<tr>\n",
       "  <th>NEWENG</th>   <td>-0.0202</td>   <td>0.0149</td>   <td>-1.3512</td> <td>0.1766</td>   <td>-0.0495</td>  <td>0.0091</td> \n",
       "</tr>\n",
       "<tr>\n",
       "  <th>MIDATL</th>   <td>0.0008</td>    <td>0.0159</td>   <td>0.0525</td>  <td>0.9582</td>   <td>-0.0303</td>  <td>0.0320</td> \n",
       "</tr>\n",
       "<tr>\n",
       "  <th>ENOCENT</th>  <td>0.0423</td>    <td>0.0251</td>   <td>1.6852</td>  <td>0.0920</td>   <td>-0.0069</td>  <td>0.0916</td> \n",
       "</tr>\n",
       "<tr>\n",
       "  <th>WNOCENT</th>  <td>-0.1237</td>   <td>0.0204</td>   <td>-6.0472</td> <td>0.0000</td>   <td>-0.1637</td>  <td>-0.0836</td>\n",
       "</tr>\n",
       "<tr>\n",
       "  <th>SOATL</th>    <td>-0.0700</td>   <td>0.0374</td>   <td>-1.8730</td> <td>0.0611</td>   <td>-0.1432</td>  <td>0.0032</td> \n",
       "</tr>\n",
       "<tr>\n",
       "  <th>ESOCENT</th>  <td>-0.1572</td>   <td>0.0558</td>   <td>-2.8149</td> <td>0.0049</td>   <td>-0.2666</td>  <td>-0.0477</td>\n",
       "</tr>\n",
       "<tr>\n",
       "  <th>WSOCENT</th>  <td>-0.1165</td>   <td>0.0386</td>   <td>-3.0181</td> <td>0.0025</td>   <td>-0.1922</td>  <td>-0.0409</td>\n",
       "</tr>\n",
       "<tr>\n",
       "  <th>MT</th>       <td>-0.1221</td>   <td>0.0085</td>   <td>-14.316</td> <td>0.0000</td>   <td>-0.1388</td>  <td>-0.1054</td>\n",
       "</tr>\n",
       "<tr>\n",
       "  <th>AGEQ</th>     <td>0.1170</td>    <td>0.0662</td>   <td>1.7687</td>  <td>0.0769</td>   <td>-0.0127</td>  <td>0.2467</td> \n",
       "</tr>\n",
       "<tr>\n",
       "  <th>AGEQSQ</th>   <td>-0.0012</td>   <td>0.0007</td>   <td>-1.5983</td> <td>0.1100</td>   <td>-0.0026</td>  <td>0.0003</td> \n",
       "</tr>\n",
       "<tr>\n",
       "  <th>EDUC</th>     <td>0.1007</td>    <td>0.0336</td>   <td>3.0018</td>  <td>0.0027</td>   <td>0.0350</td>   <td>0.1665</td> \n",
       "</tr>\n",
       "</table><br/><br/>Endogenous: EDUC<br/>Instruments: QTR1YR0, QTR1YR1, QTR1YR2, QTR1YR3, QTR1YR4, QTR1YR5, QTR1YR6, QTR1YR7, QTR1YR8, QTR1YR9, QTR2YR0, QTR2YR1, QTR2YR2, QTR2YR3, QTR2YR4, QTR2YR5, QTR2YR6, QTR2YR7, QTR2YR8, QTR2YR9, QTR3YR0, QTR3YR1, QTR3YR2, QTR3YR3, QTR3YR4, QTR3YR5, QTR3YR6, QTR3YR8<br/>Robust Covariance (Heteroskedastic)<br/>Debiased: False<br/>id: 0x1df81421690"
      ],
      "text/plain": [
       "                          IV-2SLS Estimation Summary                          \n",
       "==============================================================================\n",
       "Dep. Variable:               LWKLYWGE   R-squared:                      0.2065\n",
       "Estimator:                    IV-2SLS   Adj. R-squared:                 0.2064\n",
       "No. Observations:              247199   F-statistic:                 2.883e+04\n",
       "Date:                Sat, Jul 06 2024   P-value (F-stat)                0.0000\n",
       "Time:                        19:26:29   Distribution:                 chi2(23)\n",
       "Cov. Estimator:                robust                                         \n",
       "                                                                              \n",
       "                             Parameter Estimates                              \n",
       "==============================================================================\n",
       "            Parameter  Std. Err.     T-stat    P-value    Lower CI    Upper CI\n",
       "------------------------------------------------------------------------------\n",
       "const          0.9994     1.6002     0.6246     0.5323     -2.1370      4.1359\n",
       "YR0           -0.0680     0.0671    -1.0133     0.3109     -0.1994      0.0635\n",
       "YR1           -0.0669     0.0614    -1.0906     0.2754     -0.1873      0.0534\n",
       "YR2           -0.0660     0.0531    -1.2412     0.2145     -0.1701      0.0382\n",
       "YR3           -0.0601     0.0472    -1.2718     0.2035     -0.1526      0.0325\n",
       "YR4           -0.0525     0.0403    -1.3024     0.1928     -0.1316      0.0265\n",
       "YR5           -0.0343     0.0323    -1.0605     0.2889     -0.0976      0.0291\n",
       "YR6           -0.0248     0.0257    -0.9628     0.3357     -0.0752      0.0257\n",
       "YR7           -0.0095     0.0166    -0.5735     0.5663     -0.0421      0.0230\n",
       "YR8            0.0024     0.0094     0.2567     0.7974     -0.0161      0.0209\n",
       "RACE          -0.2271     0.0779    -2.9133     0.0036     -0.3798     -0.0743\n",
       "MARRIED        0.2804     0.0143     19.549     0.0000      0.2523      0.3085\n",
       "SMSA          -0.1163     0.0199    -5.8433     0.0000     -0.1553     -0.0773\n",
       "NEWENG        -0.0202     0.0149    -1.3512     0.1766     -0.0495      0.0091\n",
       "MIDATL         0.0008     0.0159     0.0525     0.9582     -0.0303      0.0320\n",
       "ENOCENT        0.0423     0.0251     1.6852     0.0920     -0.0069      0.0916\n",
       "WNOCENT       -0.1237     0.0204    -6.0472     0.0000     -0.1637     -0.0836\n",
       "SOATL         -0.0700     0.0374    -1.8730     0.0611     -0.1432      0.0032\n",
       "ESOCENT       -0.1572     0.0558    -2.8149     0.0049     -0.2666     -0.0477\n",
       "WSOCENT       -0.1165     0.0386    -3.0181     0.0025     -0.1922     -0.0409\n",
       "MT            -0.1221     0.0085    -14.316     0.0000     -0.1388     -0.1054\n",
       "AGEQ           0.1170     0.0662     1.7687     0.0769     -0.0127      0.2467\n",
       "AGEQSQ        -0.0012     0.0007    -1.5983     0.1100     -0.0026      0.0003\n",
       "EDUC           0.1007     0.0336     3.0018     0.0027      0.0350      0.1665\n",
       "==============================================================================\n",
       "\n",
       "Endogenous: EDUC\n",
       "Instruments: QTR1YR0, QTR1YR1, QTR1YR2, QTR1YR3, QTR1YR4, QTR1YR5, QTR1YR6, QTR1YR7, QTR1YR8, QTR1YR9, QTR2YR0, QTR2YR1, QTR2YR2, QTR2YR3, QTR2YR4, QTR2YR5, QTR2YR6, QTR2YR7, QTR2YR8, QTR2YR9, QTR3YR0, QTR3YR1, QTR3YR2, QTR3YR3, QTR3YR4, QTR3YR5, QTR3YR6, QTR3YR8\n",
       "Robust Covariance (Heteroskedastic)\n",
       "Debiased: False\n",
       "IVResults, id: 0x1df81421690"
      ]
     },
     "execution_count": 38,
     "metadata": {},
     "output_type": "execute_result"
    }
   ],
   "source": [
    "# Define the dependent variable\n",
    "y = df['LWKLYWGE']\n",
    "\n",
    "# Define the exogenous variables\n",
    "exog_vars = ['YR0', 'YR1', 'YR2', 'YR3', 'YR4', 'YR5', 'YR6', 'YR7', 'YR8', \n",
    "             'RACE', 'MARRIED', 'SMSA', 'NEWENG', 'MIDATL', 'ENOCENT', \n",
    "             'WNOCENT', 'SOATL', 'ESOCENT', 'WSOCENT', 'MT', 'AGEQ', 'AGEQSQ']\n",
    "X = sm.add_constant(df[exog_vars])\n",
    "\n",
    "# Define the instrument variables\n",
    "instr_vars = [f'QTR{j}YR{i}' for j in range(1, 4) for i in range(10)] + [f'YR{i}' for i in range(9)]\n",
    "\n",
    "\n",
    "# Perform the IV regression\n",
    "iv_model = IV2SLS(y, X, df['EDUC'], Z).fit()\n",
    "iv_model"
   ]
  },
  {
   "cell_type": "code",
   "execution_count": null,
   "id": "82df3b9b-e6c5-4be6-afac-cb402280ece8",
   "metadata": {},
   "outputs": [],
   "source": []
  }
 ],
 "metadata": {
  "kernelspec": {
   "display_name": "Python 3 (ipykernel)",
   "language": "python",
   "name": "python3"
  },
  "language_info": {
   "codemirror_mode": {
    "name": "ipython",
    "version": 3
   },
   "file_extension": ".py",
   "mimetype": "text/x-python",
   "name": "python",
   "nbconvert_exporter": "python",
   "pygments_lexer": "ipython3",
   "version": "3.11.7"
  }
 },
 "nbformat": 4,
 "nbformat_minor": 5
}
